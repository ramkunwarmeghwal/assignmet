{
 "cells": [
  {
   "cell_type": "code",
   "execution_count": 1,
   "source": [
    "#all dependcies\r\n",
    "import tensorflow as tf\r\n",
    "from tensorflow.keras import datasets, layers, models\r\n",
    "import matplotlib.pyplot as plt\r\n",
    "import numpy as np"
   ],
   "outputs": [],
   "metadata": {}
  },
  {
   "cell_type": "code",
   "execution_count": 2,
   "source": [
    "#load dataset\r\n",
    "(X_train, y_train), (X_test,y_test) = datasets.cifar10.load_data()"
   ],
   "outputs": [],
   "metadata": {}
  },
  {
   "cell_type": "code",
   "execution_count": 3,
   "source": [
    "#classes in dataset\r\n",
    "classes = [\"airplane\",\"automobile\",\"bird\",\"cat\",\"deer\",\"dog\",\"frog\",\"horse\",\"ship\",\"truck\"]"
   ],
   "outputs": [],
   "metadata": {}
  },
  {
   "cell_type": "code",
   "execution_count": 4,
   "source": [
    "def plot_sample(X, y, index):\r\n",
    "    plt.figure(figsize = (15,2))\r\n",
    "    plt.imshow(X[index])\r\n",
    "    plt.xlabel(classes[y[index]])"
   ],
   "outputs": [],
   "metadata": {}
  },
  {
   "cell_type": "code",
   "execution_count": 15,
   "source": [
    "plot_sample(X_train, y_train , 0)"
   ],
   "outputs": [],
   "metadata": {}
  },
  {
   "cell_type": "code",
   "execution_count": null,
   "source": [
    "plot_sample(X_train, y_train, 1)"
   ],
   "outputs": [],
   "metadata": {}
  },
  {
   "cell_type": "code",
   "execution_count": 5,
   "source": [
    "# xtrain and xtest range between 0 to 1\r\n",
    "X_train = X_train / 255.0\r\n",
    "X_test = X_test / 255.0"
   ],
   "outputs": [],
   "metadata": {}
  },
  {
   "cell_type": "code",
   "execution_count": 6,
   "source": [
    "#this ann model \r\n",
    "ann = models.Sequential([\r\n",
    "        layers.Flatten(input_shape=(32,32,3)),\r\n",
    "        layers.Dense(3000, activation='relu'),\r\n",
    "        layers.Dense(1000, activation='relu'),\r\n",
    "        layers.Dense(10, activation='softmax')    \r\n",
    "    ])\r\n",
    "\r\n",
    "ann.compile(optimizer='SGD',\r\n",
    "              loss='sparse_categorical_crossentropy',\r\n",
    "              metrics=['accuracy'])\r\n",
    "\r\n",
    "x = ann.fit(X_train, y_train, epochs=10)"
   ],
   "outputs": [
    {
     "output_type": "stream",
     "name": "stdout",
     "text": [
      "Epoch 1/10\n",
      "1563/1563 [==============================] - 67s 43ms/step - loss: 1.8127 - accuracy: 0.3533\n",
      "Epoch 2/10\n",
      "1563/1563 [==============================] - 68s 44ms/step - loss: 1.6241 - accuracy: 0.4276\n",
      "Epoch 3/10\n",
      "1563/1563 [==============================] - 70s 45ms/step - loss: 1.5393 - accuracy: 0.4572\n",
      "Epoch 4/10\n",
      "1563/1563 [==============================] - 69s 44ms/step - loss: 1.4809 - accuracy: 0.4793\n",
      "Epoch 5/10\n",
      "1563/1563 [==============================] - 67s 43ms/step - loss: 1.4333 - accuracy: 0.4955\n",
      "Epoch 6/10\n",
      "1563/1563 [==============================] - 68s 43ms/step - loss: 1.3914 - accuracy: 0.5120\n",
      "Epoch 7/10\n",
      "1563/1563 [==============================] - 69s 44ms/step - loss: 1.3516 - accuracy: 0.5272\n",
      "Epoch 8/10\n",
      "1563/1563 [==============================] - 66s 42ms/step - loss: 1.3167 - accuracy: 0.5388\n",
      "Epoch 9/10\n",
      "1563/1563 [==============================] - 70s 45ms/step - loss: 1.2845 - accuracy: 0.5508\n",
      "Epoch 10/10\n",
      "1563/1563 [==============================] - 82s 53ms/step - loss: 1.2557 - accuracy: 0.5588\n"
     ]
    }
   ],
   "metadata": {}
  },
  {
   "cell_type": "code",
   "execution_count": 7,
   "source": [
    "x"
   ],
   "outputs": [
    {
     "output_type": "execute_result",
     "data": {
      "text/plain": [
       "<tensorflow.python.keras.callbacks.History at 0x24d986fe438>"
      ]
     },
     "metadata": {},
     "execution_count": 7
    }
   ],
   "metadata": {}
  },
  {
   "cell_type": "code",
   "execution_count": 8,
   "source": [
    "from sklearn.metrics import confusion_matrix , classification_report\r\n",
    "import numpy as np\r\n",
    "y_pred = ann.predict(X_test)\r\n",
    "y_pred_classes = [np.argmax(element) for element in y_pred]\r\n"
   ],
   "outputs": [],
   "metadata": {}
  },
  {
   "cell_type": "code",
   "execution_count": null,
   "source": [],
   "outputs": [],
   "metadata": {}
  },
  {
   "cell_type": "code",
   "execution_count": 9,
   "source": [
    "#thid is cnn model\r\n",
    "cnn = models.Sequential([\r\n",
    "    layers.Conv2D(filters=32, kernel_size=(3, 3), activation='relu', input_shape=(32, 32, 3)),\r\n",
    "    layers.MaxPooling2D((2, 2)),\r\n",
    "    \r\n",
    "    layers.Conv2D(filters=64, kernel_size=(3, 3), activation='relu'),\r\n",
    "    layers.MaxPooling2D((2, 2)),\r\n",
    "    \r\n",
    "    layers.Flatten(),\r\n",
    "    layers.Dense(64, activation='relu'),\r\n",
    "    layers.Dense(10, activation='softmax')\r\n",
    "])"
   ],
   "outputs": [],
   "metadata": {}
  },
  {
   "cell_type": "code",
   "execution_count": 10,
   "source": [
    "cnn.compile(optimizer='adam',\r\n",
    "              loss='sparse_categorical_crossentropy',\r\n",
    "              metrics=['accuracy'])"
   ],
   "outputs": [],
   "metadata": {}
  },
  {
   "cell_type": "code",
   "execution_count": 11,
   "source": [
    "cnn.fit(X_train, y_train, epochs=10)"
   ],
   "outputs": [
    {
     "output_type": "stream",
     "name": "stdout",
     "text": [
      "Epoch 1/10\n",
      "1563/1563 [==============================] - 35s 22ms/step - loss: 1.4789 - accuracy: 0.4694\n",
      "Epoch 2/10\n",
      "1563/1563 [==============================] - 36s 23ms/step - loss: 1.1296 - accuracy: 0.6044\n",
      "Epoch 3/10\n",
      "1563/1563 [==============================] - 36s 23ms/step - loss: 1.0038 - accuracy: 0.6485\n",
      "Epoch 4/10\n",
      "1563/1563 [==============================] - 35s 22ms/step - loss: 0.9189 - accuracy: 0.6792\n",
      "Epoch 5/10\n",
      "1563/1563 [==============================] - 35s 22ms/step - loss: 0.8532 - accuracy: 0.7009\n",
      "Epoch 6/10\n",
      "1563/1563 [==============================] - 35s 23ms/step - loss: 0.8002 - accuracy: 0.7202\n",
      "Epoch 7/10\n",
      "1563/1563 [==============================] - 34s 22ms/step - loss: 0.7522 - accuracy: 0.7369\n",
      "Epoch 8/10\n",
      "1563/1563 [==============================] - 37s 24ms/step - loss: 0.7095 - accuracy: 0.7526\n",
      "Epoch 9/10\n",
      "1563/1563 [==============================] - 35s 23ms/step - loss: 0.6718 - accuracy: 0.7639\n",
      "Epoch 10/10\n",
      "1563/1563 [==============================] - 35s 22ms/step - loss: 0.6363 - accuracy: 0.7767\n"
     ]
    },
    {
     "output_type": "execute_result",
     "data": {
      "text/plain": [
       "<tensorflow.python.keras.callbacks.History at 0x24d99383780>"
      ]
     },
     "metadata": {},
     "execution_count": 11
    }
   ],
   "metadata": {}
  },
  {
   "cell_type": "code",
   "execution_count": 12,
   "source": [
    "cnn.evaluate(X_test,y_test)"
   ],
   "outputs": [
    {
     "output_type": "stream",
     "name": "stdout",
     "text": [
      "313/313 [==============================] - 2s 7ms/step - loss: 0.9194 - accuracy: 0.6991\n"
     ]
    },
    {
     "output_type": "execute_result",
     "data": {
      "text/plain": [
       "[0.9194214940071106, 0.6991000175476074]"
      ]
     },
     "metadata": {},
     "execution_count": 12
    }
   ],
   "metadata": {}
  },
  {
   "cell_type": "code",
   "execution_count": 13,
   "source": [
    "y_pred = cnn.predict(X_test)\r\n",
    "y_pred[:5]"
   ],
   "outputs": [
    {
     "output_type": "execute_result",
     "data": {
      "text/plain": [
       "array([[7.8558509e-04, 4.5735913e-05, 5.8697215e-03, 9.7913259e-01,\n",
       "        1.3979274e-04, 9.4561540e-03, 2.4857081e-03, 1.9632089e-05,\n",
       "        1.9128808e-03, 1.5221667e-04],\n",
       "       [2.8639326e-02, 4.1271219e-01, 6.9600952e-07, 2.6964106e-05,\n",
       "        2.5893996e-06, 2.0353097e-08, 1.9377843e-08, 1.0137551e-07,\n",
       "        5.4028988e-01, 1.8328197e-02],\n",
       "       [1.0193244e-01, 2.3135234e-01, 6.9893701e-03, 4.6430223e-02,\n",
       "        7.9085361e-03, 3.0391596e-03, 9.1185432e-04, 4.2541386e-03,\n",
       "        5.4166168e-01, 5.5520300e-02],\n",
       "       [8.0674809e-01, 9.2086121e-03, 4.7117036e-02, 3.5813535e-03,\n",
       "        5.1352028e-02, 3.5171534e-04, 2.6905646e-03, 2.0697308e-04,\n",
       "        6.8749465e-02, 9.9941669e-03],\n",
       "       [2.8842175e-07, 7.6075326e-06, 2.1840394e-02, 4.5115169e-02,\n",
       "        3.6783773e-01, 1.7500238e-03, 5.6321317e-01, 5.3851702e-05,\n",
       "        1.8112296e-04, 5.9888174e-07]], dtype=float32)"
      ]
     },
     "metadata": {},
     "execution_count": 13
    }
   ],
   "metadata": {}
  },
  {
   "cell_type": "code",
   "execution_count": 14,
   "source": [
    "y_classes = [np.argmax(element) for element in y_pred]\r\n",
    "y_classes[:5]"
   ],
   "outputs": [
    {
     "output_type": "execute_result",
     "data": {
      "text/plain": [
       "[3, 8, 8, 0, 6]"
      ]
     },
     "metadata": {},
     "execution_count": 14
    }
   ],
   "metadata": {}
  },
  {
   "cell_type": "code",
   "execution_count": 15,
   "source": [
    "y_test[:5]"
   ],
   "outputs": [
    {
     "output_type": "execute_result",
     "data": {
      "text/plain": [
       "array([[3],\n",
       "       [8],\n",
       "       [8],\n",
       "       [0],\n",
       "       [6]], dtype=uint8)"
      ]
     },
     "metadata": {},
     "execution_count": 15
    }
   ],
   "metadata": {}
  },
  {
   "cell_type": "code",
   "execution_count": 17,
   "source": [
    "plot_sample(X_test, y_test,7)"
   ],
   "outputs": [],
   "metadata": {}
  },
  {
   "cell_type": "code",
   "execution_count": null,
   "source": [
    "classes[y_classes[7]]"
   ],
   "outputs": [],
   "metadata": {}
  },
  {
   "cell_type": "code",
   "execution_count": null,
   "source": [],
   "outputs": [],
   "metadata": {}
  },
  {
   "cell_type": "code",
   "execution_count": null,
   "source": [],
   "outputs": [],
   "metadata": {}
  },
  {
   "cell_type": "code",
   "execution_count": null,
   "source": [],
   "outputs": [],
   "metadata": {}
  }
 ],
 "metadata": {
  "kernelspec": {
   "display_name": "Python 3",
   "language": "python",
   "name": "python3"
  },
  "language_info": {
   "codemirror_mode": {
    "name": "ipython",
    "version": 3
   },
   "file_extension": ".py",
   "mimetype": "text/x-python",
   "name": "python",
   "nbconvert_exporter": "python",
   "pygments_lexer": "ipython3",
   "version": "3.7.0"
  }
 },
 "nbformat": 4,
 "nbformat_minor": 2
}